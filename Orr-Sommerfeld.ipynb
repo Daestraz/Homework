{
 "cells": [
  {
   "cell_type": "markdown",
   "metadata": {},
   "source": [
    "## Introduction\n",
    "\n",
    "Un sujet important en mécanique des fluides est l'étude de la stabilité des écoulements. De manière générale, on se donne un champ de vitesse du fluide laminaire $\\vec{U}(\\vec{x})$ et on étudie son évolution lorsqu'on lui ajoute des \"petites\" perturbations. Si ces perturbations décroissent systématiquement au cours du temps, l'écoulement sera dit **stable**. Dans le cas contraire, l'écoulement pourrait être **instable** et se transformer en un écoulement turbulent.\n",
    "\n",
    "Par exemple, soit l'écoulement de Poiseuille à 2D. Il correspond au déplacement laminaire d'un fluide entre deux plaques parallèles:\n",
    "\n",
    "\n",
    "\n",
    "En choisissant les unités de manière appropriées, le profil de cet écoulement est donné par\n",
    "$$\\vec{U}(y)=(1-y^2)\\vec{1}_x.$$\n",
    "La vitesse est maximale au centre du canal et nulle sur les parois solides.\n",
    "\n",
    "## Perturbation de l'écoulement de base\n",
    "Ajoutons une perturbation à cet écoulement de base. La vitesse totale de l'écoulement s'écrit alors,\n",
    "\n",
    "$$\\vec{u}(x,y,t)=(1-y^2)\\vec{1}_x + \\vec{u'}(x,y,t)$$ \n",
    "où\n",
    "\\begin{equation*}\n",
    "    \\vec{u'}(x,y,t) = \n",
    "            \\begin{cases}\n",
    "               u'(x,y,t)           \\\\\n",
    "               v'(x,y,t)               \n",
    "            \\end{cases}\n",
    "\\end{equation*}\n",
    "\n",
    "est la perturbation. Comme nous faisons l'hypothèse que l'écoulement est incompressible, les deux composantes de la fluctuation ne sont pas indépendantes et sont reliées par,\n",
    "\n",
    "\\begin{align}\n",
    "\\frac{\\partial u'}{\\partial x}+\\frac{\\partial v'}{\\partial y}=0.\n",
    "\\end{align}\n",
    "\n",
    "Si le fluide considéré est un fluide commun comme l'air où l'eau, sa dynamique peut être décrite par les équations de Navier-Stokes. L'analyse de la stabilité de l'écoulement commence alors par la linéarisation de ces équations et il est possible de montrer que dans ce régime linéaire, la perturbation verticale du champ de vitesse obéït à l'équation d'Orr-Sommerfeld:\n",
    "\n",
    "\\begin{align}\n",
    "\\left(\\frac{\\partial}{\\partial t}+U(y)\\frac{\\partial}{\\partial x}\\right)\\nabla^2 v' - U''(y)\\frac{\\partial v}{\\partial x} - \\frac{1}{R}\\nabla^2 \\nabla^2 v' =0 \n",
    "\\end{align}\n",
    "\n",
    "avec comme conditions aux bords $v=\\partial v / \\partial y =0$ en $y=\\pm 1$ et où $\\nabla^2= \\partial^2 / \\partial^2 x^2+ \\partial / \\partial y^2$ et $R$ est le nombre de Reynolds de l'écoulement (paramêtre fixé).\n",
    "\n",
    "Le domaine étant infini dans la direction $x$, on peut toujours exprimer une perturbation comme une somme de modes périodiques monochromatiques (qui correspondent à une seule longueur d'onde). Si l'on se restreint à un seul mode, la perturbation $v'$ prend donc la forme d'un mode monochromatique dans la direction $x$:\n",
    "\n",
    "$$v'(x,y,t)=\\hat{v}'(y,t)e^{i\\alpha x}$$\n",
    "\n",
    "L'équation d'évolution pour $\\hat{v}'$ est alors:\n",
    "\n",
    "\\begin{align}\n",
    "\\frac{\\partial}{\\partial t}(D^2-\\alpha^2)\\hat{v}'&=\\left\\{-i\\alpha U(D^2-\\alpha^2)+i\\alpha U''+\\frac{1}{R}(D^2-\\alpha^2)^2\\right\\}\\hat{v}'\\\\\n",
    "&\\Leftrightarrow\\\\\n",
    "\\frac{\\partial}{\\partial t}\\hat{v}'&=(D^2-\\alpha^2)^{-1}\\left\\{-i\\alpha U(D^2-\\alpha^2)+i\\alpha U''+\\frac{1}{R}(D^2-\\alpha^2)^2\\right\\}\\hat{v}'\n",
    "\\end{align}\n",
    "où le symbole $D=\\frac{d}{dy}$ représente la dérivée par rapport à $y$ et $(D^2-\\alpha^2)^{-1}$ est l'inverse de l'opérateur $D^2-\\alpha^2$.\n",
    "\n",
    "De manière compacte, cette équation peut être écrite sous la forme:\n",
    "\n",
    "\\begin{align}\n",
    "\\frac{\\partial}{\\partial t}\\hat{v}'&=L\\hat{v}'\\quad\\quad (*)\n",
    "\\end{align}\n",
    "avec $L$ l'opérateur linéaire suivant:\n",
    "\n",
    "\\begin{align}\n",
    "L=(D^2-\\alpha^2)^{-1}\\left\\{-i\\alpha U(D^2-\\alpha^2)+i\\alpha U''+\\frac{1}{R}(D^2-\\alpha^2)^2\\right\\}\n",
    "\\end{align}"
   ]
  },
  {
   "cell_type": "markdown",
   "metadata": {},
   "source": [
    "Comme l'équation d'évolution de $\\hat{v}'$ est linéaire, il est aussi possible d'introduire un propagateur qui transforme toute condition initiale $\\hat{v}'(0)$ en la solution à l'instant $\\hat{v}'(t)$,\n",
    "\n",
    "\\begin{align}\n",
    "\\hat{v}'(t)=X(t)\\hat{v}'(0)\n",
    "\\end{align}\n",
    "\n",
    "En utilisant l'équation d'évolution de $\\hat{v}'$ on obtient directement l'équation d'évolution du propagateur:\n",
    "\\begin{align}\n",
    "\\frac{\\partial}{\\partial t}X(t)&=L X(t),\\,\\, \\mathrm{avec}\\;  X(0)=I \\quad\\quad (**) \n",
    "\\end{align}\n",
    "où $I$ est l'identité."
   ]
  },
  {
   "cell_type": "markdown",
   "metadata": {},
   "source": [
    "## Analyse de la stabilité\n",
    "\n",
    "Une des questions fondamentales qui se posent est de savoir si l'amplitude d'une perturbation quelconque va croître avec le temps et quelle est la forme optimale d'une perturbation pour déstabiliser l'écoulement. Ces questions peuvent être analysées en mesurant la norme (l'énergie cinétique dans notre cas) de la perturbation verticale au cours du temps:\n",
    "\n",
    "\\begin{align}\n",
    "{\\cal E}(t)=\\frac{1}{4a}\\int_{-1}^{1}\\int_0^a Re(v'(t))^2 dxdy\n",
    "\\end{align}\n",
    "\n",
    "où $a=2\\pi/\\alpha$ et $Re()$ désigne la partie réelle de $v'$. En utilisant la forme des perturbations choisies (modes monochromatiques) on a alors,\n",
    "\n",
    "\\begin{align}\n",
    "{\\cal E}(t)=\\lVert \\hat{v}^{'*}(t) \\lVert^2 =\\frac{1}{8}\\int_{-1}^{1}\\hat{v}^{'*}(t)\\hat{v}^{'}(t)dy\n",
    "\\end{align}\n",
    "où le symbole $^*$ represente le complexe conjugué."
   ]
  },
  {
   "cell_type": "markdown",
   "metadata": {},
   "source": [
    "Dans l'analyse de stabilité dite non-modale, on cherche la perturbation qui maximise l'amplification de la norme choisie. Par exemple, l'amplification maximale $\\Phi_\\alpha$ possible à un instant $t$ pour un nombre $\\alpha$ donnée est définie par:\n",
    "\n",
    "\\begin{align}\n",
    "\\Phi_\\alpha(t)=\\max_{\\hat{v}^{'}(0)}\\frac{\\lVert \\hat{v}^{'}(t)\\lVert}{\\lVert \\hat{v}^{'}(0)\\lVert}=\\max_{\\hat{v}^{'}(0)}\\frac{\\lVert X(t)\\hat{v}^{'}(0)\\lVert}{\\lVert \\hat{v}^{'}(0)\\lVert}= \\lVert X(t)\\lVert \n",
    "\\end{align}\n"
   ]
  },
  {
   "cell_type": "markdown",
   "metadata": {},
   "source": [
    "La dernière égalité résulte de la définition de la norme du propagateur $X(t)$. Lorsque la norme choisie est la norme $L^2$ comme ici, on peut montrer que la norme du propagateur est égale à sa plus grande valeur singulière. La décomposition d'une matrice à partir de ses valeurs singulières est une généralisation de la décomposition en valeurs propres: https://en.wikipedia.org/wiki/Singular_value_decomposition. Afin de déterminer les valeurs singulières d'une matrice, numpy contient une routine dédiée que nous pouvons utiliser ici. Elle prend la forme (voir manuel de numpy):\n",
    "\n",
    "```u,s,vh = numpy.linalg.svd(X)```\n",
    "\n",
    "$s$ est un vecteur dont les composantes correspondent aux valeurs singulières de la matrice $X(t)$. Par ailleurs, $u$ et $v$ sont des matrices dont les colonnes correspondent respectivement aux vecteurs \"d'entrée et de sortie\" de la décomposition (attention, la matrice vh donnée par la routine est la transposée conjuguée de $v$). On a donc les relations:\n",
    "\n",
    "\\begin{align}\n",
    "X\\cdot v[:,i] = s_iu[:,i]\n",
    "\\end{align}\n",
    "\n",
    "où le $\\cdot$ représente la multiplication matricielle et $s_i$ est la $i$-ème valeur singulière."
   ]
  },
  {
   "cell_type": "markdown",
   "metadata": {},
   "source": [
    "## Travail personnel"
   ]
  },
  {
   "cell_type": "markdown",
   "metadata": {},
   "source": [
    "On commence par importer les modules Python nécessaires :"
   ]
  },
  {
   "cell_type": "code",
   "execution_count": 1,
   "metadata": {},
   "outputs": [],
   "source": [
    "import numpy as np\n",
    "import scipy as sc\n",
    "from scipy import linalg\n",
    "from matplotlib import pyplot\n",
    "%matplotlib inline"
   ]
  },
  {
   "cell_type": "markdown",
   "metadata": {},
   "source": [
    "Afin de résoudre l'équation (*), on peut introduire une grille 1D comme suit :"
   ]
  },
  {
   "cell_type": "code",
   "execution_count": 2,
   "metadata": {},
   "outputs": [],
   "source": [
    "N=101\n",
    "L=1.0\n",
    "y=np.linspace(-L,L,N)\n",
    "dy=2*L/(N-1)"
   ]
  },
  {
   "cell_type": "markdown",
   "metadata": {},
   "source": [
    "**Question 1: (2 points)**\n",
    "\n",
    "Pour $\\hat{v}'$, le problème contient 4 conditions aux bords. Les conditions du type Dirichlet se traduisent par: v[0]=0 et v[N-1]=0.\n",
    "\n",
    "En vous servant du lien, https://en.wikipedia.org/wiki/Finite_difference_coefficient, déterminer comment se traduisent les conditions du type von Neumann $\\frac{\\partial v}{\\partial y}(y=-1)=\\frac{\\partial v}{\\partial y}(y=1)=0$ si on adopte une \"forward finite difference\" du second ordre pour la dérivée première sur le bord $y=-1$ et une \"backward finite difference\" du second ordre pour la dérivée première sur le bord $y=1$.\n"
   ]
  },
  {
   "cell_type": "markdown",
   "metadata": {},
   "source": [
    "<font color='grey'>\n",
    "    Les conditions du type von Neumann se traduisent comme\n",
    "\n",
    "\\begin{align}\n",
    "    \\frac{d \\hat{v}'}{dy}(y=-1) \\approx & \\frac{-3/2 \\hat{v}'[0] + 2 \\hat{v}'[1] - 1/2 \\hat{v}'[2]}{h} = 0\\\\\n",
    "    \\frac{d \\hat{v}'}{dy}(y=+1) \\approx & \\frac{3/2 \\hat{v}'[100] - 2 \\hat{v}'[99] + 1/2 \\hat{v}'[98]}{h} = 0\n",
    "\\end{align}\n",
    "\n",
    "*En appliquant les conditons de type Dirichlet dans cette équation, les termes $\\hat{v}'[0]$ et $\\hat{v}'[100]$ sont nuls et on obtient une dépendance pour les termes en position 1 et 99*\n",
    "\\begin{align}\n",
    "    \\hat{v}'[1]= & \\frac{1}{4}\\hat{v}'[2]\\\\\n",
    "    \\hat{v}'[99] = & \\frac{1}{4}\\hat{v}'[98]\n",
    "\\end{align}\n",
    "<font>"
   ]
  },
  {
   "cell_type": "markdown",
   "metadata": {},
   "source": [
    "De la question précédente, on déduit que la discrétisation de $\\hat{v}'$ ne contient que $N-4$ valeurs indépendantes et qu'on peut dès lors définir numériquement:"
   ]
  },
  {
   "cell_type": "code",
   "execution_count": 3,
   "metadata": {},
   "outputs": [],
   "source": [
    "v=np.empty(N-4)"
   ]
  },
  {
   "cell_type": "markdown",
   "metadata": {},
   "source": [
    "**Question 2: (3 points)**\n",
    "\n",
    "En tenant compte de votre réponse à la question 1, compléter la routine suivante afin qu'elle retourne une discrétisation de l'opérateur $D^2$ du type \"central finite difference\" valable à l'ordre 2 et qui agit sur les valeurs indépendantes de ${\\hat v}'$."
   ]
  },
  {
   "cell_type": "markdown",
   "metadata": {},
   "source": [
    "<font color='grey'>\n",
    "$\\rightarrow$ Afin de garder une routine générale, nous allons créer une matrice correspondant à l'opérateur $D^2$. Nous devons donc créer une matrice applicable sur un vecteur colonne $\\hat{v}'$: \n",
    "\n",
    "$$\n",
    "\\begin{pmatrix}\n",
    " d_{11} & d_{12} & \\cdots & d_{1n} \\\\\n",
    " d_{21} & d_{12} & \\cdots & d_{2n} \\\\\n",
    " \\vdots & \\vdots & \\ddots & \\vdots \\\\\n",
    " d_{n1} & d_{n2} & \\cdots & d_{nn}\n",
    "\\end{pmatrix}\n",
    "\\begin{pmatrix}\n",
    " \\hat{v}'_{11} \\\\\n",
    " \\hat{v}'_{21} \\\\\n",
    " \\vdots \\\\\n",
    " \\hat{v}'_{n1} \n",
    "\\end{pmatrix}\n",
    "$$\n",
    "\n",
    "De plus, pour que $D^2$ soit du type \"central finite difference\", nous devons caractériser les éléments de notre matrice par des coefficients également disponibles sur la page https://en.wikipedia.org/wiki/Finite_difference_coefficient. \n",
    "\n",
    "À l'ordre 2, chaque $i^{ème}$ ligne de $D^2$ doit pouvoir être appliquée sur le  $i^{ème}$ élément de $\\hat{v}'$ de sorte que:\n",
    "\n",
    "$$\\begin{equation}\n",
    "D^2(\\hat{v}'[i]) = \\frac{1 \\hat{v}'[i-1]-2 \\hat{v}'[i]+1 \\hat{v}'[i+1]}{dy^2} \\quad (1)\n",
    "\\end{equation}$$\n",
    "\n",
    "Nous allons donc construire $D^2$ comme\n",
    "\n",
    "$$\\begin{pmatrix}\n",
    " -2 & 1 & 0 & 0 & \\cdots & 0 & 0 & 0\\\\\n",
    " 1 & -2 & 1 & 0 & \\cdots & 0 & 0 & 0\\\\\n",
    " 0 & 1 & -2 & 1 & \\cdots & 0 & 0 & 0\\\\\n",
    " \\vdots & \\vdots & \\vdots & \\vdots & & \\vdots & \\vdots & \\vdots\\\\\n",
    " 0 & 0 & 0 & 0 & \\cdots & -2 & 1 & 0 \\\\\n",
    " 0 & 0 & 0 & 0 & \\cdots & 1 & -2 & 1 \\\\\n",
    " 0 & 0 & 0 & 0 & \\cdots & 0 & 1 & -2\n",
    "\\end{pmatrix}$$\n",
    "\n",
    "Enfin, nous voyons que la première et dernière ligne de notre matrice ne contiennent pas tous les coefficients, nous allons donc devoir les modifier manuellement à l'aide des conditions de bords déterminées dans l'exercice précédent.\n",
    "<font>"
   ]
  },
  {
   "cell_type": "markdown",
   "metadata": {},
   "source": [
    "<font color='grey'>\n",
    "Pour créer cette matrice, notre routine va donc additionner 3 matrices composées de diagonale (une pour chaque coefficient). Ces diagonales seront décalées une ligne en-dessous (k=-1) ou une ligne au-dessus de la diagonale principale de la matrice $D^2$ afin que chaque coefficient puisse s'appliquer sur la bonne valeur de $\\hat{v}'$ (respectivement $\\hat{v}'[i-1]$ si décalée en-dessous et $\\hat{v}'[i+1]$ si décalée au-dessus).\n",
    "\n",
    "Rem: Pour gagner une ligne, notre variable D2 va créer la dernière matrice \"diagonale\" et l'additionner avec les autres matrices créer précédemment. Nous aurions pu créer une variable supplémentaire qui aurait additionner D0, D1 et D2 pour rendre la routine plus claire mais avons préféré réduire le nombre de ligne.\n",
    "\n",
    "Une fois les matrices additionnées, nous divisons le tout pour un coefficient $\\frac{1}{dy^2}$. Notre matrice est pratiquement prête.\n",
    "\n",
    "Enfin, pour corriger les valeurs pathologiques, il nous reste à remplacer la première valeur de la première ligne ainsi que la dernière valeur de la dernière ligne par $(-7/4)/dy^2$. Cette valeur résulte du fait que l'on ai que 2 valeurs sur chacune de ces lignes. La première valeur correspond donc à la \"combinaison\" de $1 \\hat{v}'[i-1]-2 \\hat{v}'[i]$ dans notre équation (1) tandis que la dernière sera la \"combinaison\" de $-2 \\hat{v}'[i]+1 \\hat{v}'[i+1]$ issue de la même équation.\n",
    "<font>"
   ]
  },
  {
   "cell_type": "code",
   "execution_count": 4,
   "metadata": {},
   "outputs": [],
   "source": [
    "# Operator of the second derivative acting on v with respect to y \n",
    "def D2_v(N,dy):\n",
    "    #--------------------------------------- Nos 3 \"diagonales\" correspondant à chaque opération de l'équation (***)\n",
    "    D0=np.diag(np.ones(N-5),k=-1)\n",
    "    D1=-2*np.diag(np.ones(N-4))\n",
    "    D2=D0+D1+np.diag(np.ones(N-5), k=1)\n",
    "    #--------------------------------------- Définissons D2_v\n",
    "    D2_v=D2/(dy**2)\n",
    "    #--------------------------------------- Il nous reste plus qu'à adapter les valeurs sur les bords\n",
    "    D2_v[0,0], D2_v[-1,-1] = (-7/4)/dy**2, (-7/4)/dy**2\n",
    "    return D2_v"
   ]
  },
  {
   "cell_type": "markdown",
   "metadata": {},
   "source": [
    "**Question 3: (3 points)** \n",
    "\n",
    "Faites de même pour l'opérateur de dérivée 4ème, $D^4 = \\frac{\\partial^4}{\\partial y^4}$ en complétant la routine suivante afin qu'elle retourne une discrétisation de l'opérateur $D^4$ du type \"central finite difference\" valable à l'ordre 2 et qui agit sur les valeurs indépendantes de ${\\hat v}'$."
   ]
  },
  {
   "cell_type": "markdown",
   "metadata": {},
   "source": [
    "<font color='grey'>Cette fonction est analogue à la question précédente.\n",
    "\n",
    "Les différences avec la question précédente sont que nous avons plus de coefficients à prendre en compte (5 au lieu de 3) et donc plus de diagonales. De plus, vu que nous avons plus de diagonales, k variera entre -2 et 2.\n",
    "\n",
    "Notre équation devient\n",
    "\n",
    "$$\\begin{equation}\n",
    "D^4(\\hat{v}'[i]) = \\frac{1 \\hat{v}'[i-2]- 4\\hat{v}'[i-1] + 6 \\hat{v}'[i] -4 \\hat{v}'[i+1] +1 \\hat{v}'[i+2]}{dy^2}\n",
    "\\end{equation}$$\n",
    "\n",
    "et notre matrice\n",
    "\n",
    "$$\\begin{pmatrix}\n",
    " 6 & -4 & 1 & 0 & 0 & \\cdots & 0 & 0 & 0 & 0 & 0\\\\\n",
    " -4 & 6 & -4 & 1 & 0 & \\cdots & 0 & 0 & 0 & 0 & 0\\\\\n",
    " 1 & -4 & 6 & -4 & 1 & \\cdots & 0 & 0 & 0 & 0 & 0\\\\\n",
    " \\vdots & \\vdots & \\vdots & \\vdots & \\vdots & & \\vdots & \\vdots & \\vdots & \\vdots & \\vdots\\\\\n",
    " 0 & 0 & 0 & 0 & 0 & \\cdots & 1 & -4 & 6 & -4 & 1 \\\\\n",
    " 0 & 0 & 0 & 0 & 0 & \\cdots & 0 & 1 & -4 & 6 & -4 \\\\\n",
    " 0 & 0 & 0 & 0 & 0 & \\cdots & 0 & 0 & 1 & -4 & 6\n",
    "\\end{pmatrix}$$\n",
    "\n",
    "\n",
    "Enfin, la dernière différence résident dans les conditions aux bords, nous en avons 2 de plus à prendre en compte vu que notre première et dernière lignes ne comprennent que 3 coefficients sur 5. Nous allons donc modifier les deux premières lignes et ainsi que les deux dernières. Les première et dernière lignes seront modifiées de la même manière qu'à la question 2, nous avons simplement déterminer le premier élément par la combinaison de 3 termes au lieu de 2.\n",
    "<font>"
   ]
  },
  {
   "cell_type": "code",
   "execution_count": 5,
   "metadata": {},
   "outputs": [],
   "source": [
    "# Operator of the fourth derivative acting on v with respect to y \n",
    "def D4_v(N,dy):\n",
    "    #--------------------------------------- Nos 5 \"diagonales\" correspondant à l'opération\n",
    "    D0=np.diag(np.ones(N-6),k=-2)\n",
    "    D1=-4*np.diag(np.ones(N-5),k=-1)\n",
    "    D2=6*np.diag(np.ones(N-4))\n",
    "    D3=-4*np.diag(np.ones(N-5),k=1)\n",
    "    D4=D0+D1+D2+D3+np.diag(np.ones(N-6),k=2)\n",
    "    #--------------------------------------- Définissons D4_v\n",
    "    D4_v=D4/dy**4\n",
    "    #--------------------------------------- Il nous reste plus qu'à adapter les valeurs sur les bords\n",
    "    D4_v[0,0], D4_v[1,0], D4_v[-2,-1], D4_v[-1,-1]= 5/dy**4, (-15/4)/dy**4, (-15/4)/dy**4, 5/dy**4\n",
    "    return D4_v"
   ]
  },
  {
   "cell_type": "markdown",
   "metadata": {},
   "source": [
    "**Question 4: (4 points)** \n",
    "\n",
    "En vous servant des routines précédantes, créer une routine qui permet de construire l'opérateur $L$. Pour information, un nombre complexe en Python peut être créé simplement en utilisant pour le nombre imaginaire $i$ le symbole 1j. Par example, le nombre $3+2i$ s'écrira ``` 3+2*1j ```."
   ]
  },
  {
   "cell_type": "markdown",
   "metadata": {},
   "source": [
    "<font color='grey'>Commençons par développer notre expressions de L. Il nous suffira d'appliquer ensuite $D_2v$ et $D_4v$.\n",
    "\n",
    "$$\\begin{align}\n",
    "L & =(D^2-\\alpha^2)^{-1}\\left\\{-i\\alpha U(D^2-\\alpha^2)+i\\alpha U''+\\frac{1}{R}(D^2-\\alpha^2)^2\\right\\} \\\\\n",
    "  & =(D^2-\\alpha^2)^{-1} \\left\\{-i\\alpha (1-y^2)(D^2-\\alpha^2)+i\\alpha(-2)+\\frac{1}{R}(D^4-2D^2\\alpha^2+\\alpha^4)\\right\\}\n",
    "\\end{align}$$\n",
    "\n",
    "Cette dernière expression est plus explicite quant au expression de U et U'' mais il faut toutefois garder en tête que ceux-ci correspondent à des matrices. Nous utiliserons donc cette dernière expression pour implémenter L mais nous devons tout d'abord modifier certains de nos termes en matrices afin de pouvoir y effectuer certaines opération (essentiellement additionner les termes). Pour cela, nous allons simplement créer des matrices identités et les multplier par le scalaire correspondant.\n",
    "\n",
    "Remarquons que, dans notre routine, nous allons multiplier des matrices entre elles. Nous allons donc par moment utiliser numpy.dot afin de les multiplier.\n",
    "<font>"
   ]
  },
  {
   "cell_type": "code",
   "execution_count": 6,
   "metadata": {
    "scrolled": false
   },
   "outputs": [],
   "source": [
    "# Operator L\n",
    "def L_v(N,y,dy,R,alpha):\n",
    "    #-------------------------------- Utilisons les routines définies précédemment\n",
    "    D2v=D2_v(N,dy)\n",
    "    D4v=D4_v(N,dy)\n",
    "    #-------------------------------- Définissons de plus certains termes de notre équation en terme matriciel.\n",
    "    A2=(alpha**2)*np.diag(np.ones(N-4))\n",
    "    A4=(alpha**4)*np.diag(np.ones(N-4))\n",
    "    U=(1-y**2)*np.diag(np.ones(N-4))\n",
    "    D2U=-2*np.diag(np.ones(N-4))\n",
    "    Dinv=np.linalg.inv(D2v-A2)\n",
    "    #-------------------------------- Implémentons l'opérateur L\n",
    "    L=np.dot(Dinv,(-1j*alpha*np.dot(U,(D2v-A2))+D2U*alpha*1j+(D4v-2*(alpha**2)*D2v+A4)/R))\n",
    "    return L"
   ]
  },
  {
   "cell_type": "markdown",
   "metadata": {},
   "source": [
    "**Question 5: (2 points)** \n",
    "\n",
    "En utilisant un algortihme RK4 dans le temps (https://en.wikipedia.org/wiki/Runge–Kutta_methods#The_Runge–Kutta_method) et un pas de temps de $dt=0.01$, calculer la valeur de ${\\hat v}'$ en $y=0.5$ pour un temps final de $10s$ à partir de la condition initiale suivante,\n",
    "\n",
    "\\begin{align}\n",
    "{\\hat v}'(y) = 0.02*(1+cos(\\pi y))\n",
    "\\end{align}\n",
    "\n",
    "On choisit commme paramêtres, $R=500$ et $\\alpha=0.3$.\n",
    "\n",
    "*Solution: ${\\hat v}'(0.5)=0.00772852-0.01239437i$.*"
   ]
  },
  {
   "cell_type": "markdown",
   "metadata": {},
   "source": [
    "<font color='grey'>\n",
    "Commençons par créer une routine Rk4 général.\n",
    "Pour cela, nous utiliserons une condition initiale v0 (dans notre cas, v0 correspond à une liste de ${\\hat v}'(y)$ pour chaque y de N-4 valeur indépendante, d'un nombre d'exécution nt correspondant au rapport le temps final et le pas de temps dt et du coefficient alpha (cet argument n'est nécessaire uniquement pour la question 9).\n",
    "\n",
    "Nous commençons par créer une sous-routine f qui servira à multiplier les matrices L et V0 entre elle. Cette sous-routine ne sert qu'à exprimer nos pentes k comme des fonctions.\n",
    "\n",
    "Ensuite, il nous suffit de calculer les pentes k1, k2, k3, k4 pour chaque itération dans le temps et de redéfinir V0c par \n",
    "\n",
    "\\begin{align}\n",
    "V0c=V0c+\\frac{k1+2*k2+2*k3+k4}{6}\n",
    "\\end{align}\n",
    "\n",
    "Seule la valeur au temps final nous intéresse donc nous ne nous soucierons pas de changer la valeur de V0c avant la dernière itération.\n",
    "\n",
    "Enfin, pour trouver la valeur de ${\\hat v}'(y)$, nous allons créer une autre routine Rk4_value qui prend un argument \"y2\" composé des valeurs indépendantes de y seulement et un argument \"yn\" qui prend seulement un nombre de la liste y2.\n",
    "Rk4 nous sortons une array avec plusieurs valeurs, Rk4_value ressort la valeur de Rk4 du $n^{ème}$ de Rk4 (qui correspond au $n^{ème}$ élément de y2).\n",
    "<font>"
   ]
  },
  {
   "cell_type": "code",
   "execution_count": 7,
   "metadata": {},
   "outputs": [
    {
     "name": "stdout",
     "output_type": "stream",
     "text": [
      "v(0.5)= [ 0.00772852-0.01239437j]\n"
     ]
    }
   ],
   "source": [
    "#------------------------------------ Produit matriciel\n",
    "def f(L,v):\n",
    "    f=np.dot(L,v)\n",
    "    return(f)\n",
    "\n",
    "#------------------------------------ Rk4\n",
    "def Rk4(V0,nt,dt,alpha):\n",
    "    V0c=V0.copy()\n",
    "    Lv=L_v(N,y2,dy,R,alpha)\n",
    "    for i in range(nt):\n",
    "        k1=dt*f(Lv,V0c)\n",
    "        k2=dt*f(Lv,V0c+(k1/2))\n",
    "        k3=dt*f(Lv,V0c+(k2/2))\n",
    "        k4=dt*f(Lv,V0c+k3)\n",
    "        V0c=V0c+(k1+2*k2+2*k3+k4)/6\n",
    "    return V0c\n",
    "\n",
    "#------------------------------------- Rk4 pour une valeur spécifique de v'(y)\n",
    "def Rk4_value(V0,nt,dt,y2,yn,alpha):\n",
    "    V0c=V0.copy()\n",
    "    mask=np.where(y2==yn)\n",
    "    Lv=L_v(N,y2,dy,R,alpha)\n",
    "    for i in range(nt):\n",
    "        k1=dt*f(Lv,V0c)\n",
    "        k2=dt*f(Lv,V0c+(k1/2))\n",
    "        k3=dt*f(Lv,V0c+(k2/2))\n",
    "        k4=dt*f(Lv,V0c+k3)\n",
    "        V0c=V0c+(k1+2*k2+2*k3+k4)/6\n",
    "    return V0c[mask]\n",
    "\n",
    "#------------------------------------- Arguments de Rk4\n",
    "y2=y[2:-2]\n",
    "v0=0.02*(1+np.cos(np.pi*y2))\n",
    "V0=np.array(v0)\n",
    "R, alpha = 500, 0.3\n",
    "dt, tf = 0.01, 10\n",
    "nt=int(tf/dt)\n",
    "yn=0.5\n",
    "#------------------------------------- Solution pour y=0.5\n",
    "print('v(%s)='%(yn), Rk4_value(V0,nt,dt,y2,yn,alpha))"
   ]
  },
  {
   "cell_type": "markdown",
   "metadata": {},
   "source": [
    "**Question 6: (1 point)** \n",
    "\n",
    "A partir de l'équation (**), calculer le propagateur $X$ à l'instant $t=10$ pour les mêmes valeurs des paramètres que précédemment: $R=500$ et $\\alpha=0.3$. Utiliser à nouveau un algorithme RK4 dans le temps et un pas de temps $dt=0.01$."
   ]
  },
  {
   "cell_type": "code",
   "execution_count": 8,
   "metadata": {},
   "outputs": [],
   "source": [
    "def propa(nt,alpha):\n",
    "    #-------------------------- On définit la condition initiale en partant de la matrice identité (cf introduction)\n",
    "    X0=np.diag(np.ones(N-4))\n",
    "    #-------------------------- On obtient l'évolution en appliquant cette matrice dans RK4\n",
    "    Xt=Rk4(X0,nt,dt,alpha)\n",
    "    return(Xt)"
   ]
  },
  {
   "cell_type": "markdown",
   "metadata": {},
   "source": [
    "**Question 7: (1 point)** \n",
    "\n",
    "Vérifier que le propagateur transforme bien la condition initiale de la question 5 en la solution que vous avez obtenue."
   ]
  },
  {
   "cell_type": "code",
   "execution_count": 9,
   "metadata": {},
   "outputs": [],
   "source": [
    "def check_answer(nt,yn,deci):\n",
    "    #---------------------------------------------- On repère la valeur qui nous intéresse dans nos positions 'y' et on va repérer dans les résultats du propagateur et RK4 les valeurs qui y sont liés.\n",
    "    mask=np.where(y2==yn)\n",
    "    Xt, rk4 = propa(nt,alpha), Rk4(v0,nt,dt,alpha)\n",
    "    Xtv = f(Xt,v0)\n",
    "    Xtv_val, rk4_val = Xtv[mask][0], rk4[mask][0]\n",
    "    #---------------------------------------------- On compare les valeurs obtenues mais nous devons arrondir car le processeur va calculer à une décimale qui ne s'affichera pas sur le notebook\n",
    "    if round(Xtv_val,deci)==round(rk4_val,deci): \n",
    "        print(\"Les deux solutions sont équivalentes:\\n\", Xtv_val,\"=\", rk4_val)\n",
    "    else:\n",
    "        print(\"Error\")"
   ]
  },
  {
   "cell_type": "code",
   "execution_count": 10,
   "metadata": {},
   "outputs": [
    {
     "name": "stdout",
     "output_type": "stream",
     "text": [
      "Les deux solutions sont équivalentes:\n",
      " (0.00772852356078-0.0123943693824j) = (0.00772852356078-0.0123943693824j)\n"
     ]
    }
   ],
   "source": [
    "check_answer(nt,0.5,8) #où 8 est le nombre de décimal indiqué dans la solution de la question 5"
   ]
  },
  {
   "cell_type": "markdown",
   "metadata": {},
   "source": [
    "<font color='grey'>Par pure curiosité mais également pour vérifier jusqu'à quel ordre notre routine check_answer fonctionne, nous avons créé une autre fonction qui vérifie le nombre de décimals pour lequel les deux réponses sont équivalentes<font>"
   ]
  },
  {
   "cell_type": "code",
   "execution_count": 11,
   "metadata": {},
   "outputs": [],
   "source": [
    "def check_decimals(nt,yn,deci):\n",
    "    mask=np.where(y2==yn)\n",
    "    Xt, rk4 = propa(nt,alpha), Rk4(v0,nt,dt,alpha)\n",
    "    Xtv = f(Xt,v0)\n",
    "    Xtv_val, rk4_val = Xtv[mask][0], rk4[mask][0]\n",
    "    while round(Xtv_val,deci)==round(rk4_val,deci):\n",
    "        deci=deci+1\n",
    "    return(deci)"
   ]
  },
  {
   "cell_type": "code",
   "execution_count": 12,
   "metadata": {},
   "outputs": [
    {
     "data": {
      "text/plain": [
       "17"
      ]
     },
     "execution_count": 12,
     "metadata": {},
     "output_type": "execute_result"
    }
   ],
   "source": [
    "check_decimals(nt,0.5,1)"
   ]
  },
  {
   "cell_type": "markdown",
   "metadata": {},
   "source": [
    "**Question 8: (2 points)** \n",
    "\n",
    "En utilisant la fonction disponible dans numpy, effectuer la décomposition singulière du propagateur obtenu à la question 7 et calculer la plus grande des valeurs sigulières. Faire un graphique de la perturbation optimale correspondante (elle correspond au vecteur d'entrée associé à cette plus grande valeur singulière).\n",
    "\n",
    "*Solution: s=3.3042383*"
   ]
  },
  {
   "cell_type": "markdown",
   "metadata": {},
   "source": [
    "<font color='grey'>\n",
    "    Après avoir effectuer la décomposition \n",
    "$$\n",
    "X . \\hat{v}'[:,i]=s_i u[i,:],\n",
    "$$\n",
    "\n",
    "on va récupérer la valeur singulière maximale dans les  $ s_i $ et regarder à quelle vecteur d'entrée $ \\hat{v}' $ celle-ci correspond.  linalg.svd  va retourner 3 matrices et seules celles comportant les $s_i$ et $\\hat{v}'$ nous intéressent ici.\n",
    "<font>"
   ]
  },
  {
   "cell_type": "code",
   "execution_count": 13,
   "metadata": {
    "scrolled": false
   },
   "outputs": [
    {
     "name": "stdout",
     "output_type": "stream",
     "text": [
      "La valeur singulière maximale du propagateur est: 3.30423834\n",
      "La perturbation associée à cette valeur singulière est la suivante\n"
     ]
    },
    {
     "data": {
      "image/png": "[encoded data removed]",
      "text/plain": [
       "<matplotlib.figure.Figure at 0x7f7a74c117b8>"
      ]
     },
     "metadata": {
      "needs_background": "light"
     },
     "output_type": "display_data"
    }
   ],
   "source": [
    "#----------------------------------------- On récupère la valeur singulière maximale\n",
    "def s_max(nt,alpha):\n",
    "    #------------------------------------- On établit déjà les listes à remplir pour pouvoir permettre le graph\n",
    "    Rv, Iv=np.empty(N-4), np.empty(N-4)\n",
    "    #------------------------------------- On effectue la décomposition et on récupère la valeur singulière maximale et sa position dans le vecteur s de linalg.svd\n",
    "    Dec=np.linalg.svd(propa(nt,alpha))\n",
    "    s=np.max(Dec[1])\n",
    "    C=np.argmax(Dec[1])\n",
    "    #------------------------------------ On prend la transposé de la complexe conjuguée de vh, qui est en sortie de linalg.svd et on récupère les parties réelles et imaginaires du vecteur d'entrée qui nous intéresse \n",
    "    v=np.transpose(np.conj(Dec[2]))\n",
    "    for i in range(0,N-4):\n",
    "        Rv[i]=np.real(v[i,C])\n",
    "        Iv[i]=np.imag(v[i,C])\n",
    "    return (s, Rv, Iv)\n",
    "Opt=s_max(nt,alpha)\n",
    "\n",
    "print('La valeur singulière maximale du propagateur est:', np.round(Opt[0],8))\n",
    "print('La perturbation associée à cette valeur singulière est la suivante')\n",
    "\n",
    "#----------------------------------------- On réalise le graphique des parties réelles et imaginaires du vecteur d'entrée\n",
    "pyplot.figure(figsize=(7.0,5.0))\n",
    "pyplot.title('Perturbation correspondant à la valeur singulière maximale')\n",
    "pyplot.xlabel('Position')\n",
    "pyplot.ylabel('Amplitude de la Pertubation')\n",
    "pyplot.plot(y2,Opt[1], label='Perturbation (partie réelle)',\n",
    "            color='C0', linestyle='-',linewidth=3)\n",
    "pyplot.plot(y2,Opt[2], label='Perturbation (partie imaginaire)',\n",
    "            color='C4', linestyle='-',linewidth=3)\n",
    "pyplot.legend(loc='upper left')\n",
    "pyplot.xlim(-L,L)\n",
    "pyplot.ylim(-0.2,0.45)\n",
    "pyplot.grid()"
   ]
  },
  {
   "cell_type": "markdown",
   "metadata": {},
   "source": [
    "**Question 9: (2 points)** \n",
    "\n",
    "En faisant varier $\\alpha$ comme paramètre dans le propagateur, écrire un programme qui permet de déterminer la valeur de $\\alpha$ qui maximise l'amplification des perturbations à l'instant $t=10$ (toujours avec $R=500$) et en utilisant la même résolution et méthode numérique que précédemment. Faire un graphique de $s$ en fonction de $k$."
   ]
  },
  {
   "cell_type": "markdown",
   "metadata": {},
   "source": [
    "<font color='grey'> On doit calculer les amplifications maximales pour un nombre de alpha différent situé entre des bornes définies et avec un pas donné. La position du alpha correspant à la plus grande perturbation est ensuite détectée et on retourne ce alpha.\n",
    "    \n",
    "On a trouvé qu'une bonne valeur pour ces bornes et le pas sont situés entre 0 et 5.0 pour les bornes et 75 pour le pas. On pourrait utiliser un pas plus fin mais le programme est déjà long à exécuter.\n",
    "<font>"
   ]
  },
  {
   "cell_type": "code",
   "execution_count": 14,
   "metadata": {},
   "outputs": [
    {
     "name": "stdout",
     "output_type": "stream",
     "text": [
      "Le alpha qui donne l'amplification maximale est [ 1.58108108]\n"
     ]
    }
   ],
   "source": [
    "#Trouver les amplifications en fonction de alpha\n",
    "\n",
    "def max_alpha(alpha0,alphaf,alpha_step):\n",
    "    #------------------------------------------- On définit les arrays qui vont être remplis par la fonction\n",
    "    Smax=np.empty(alpha_step)\n",
    "    Alpha=np.linspace(alpha0,alphaf,alpha_step)\n",
    "    #------------------------------------------- La boucle qui permet de trouver la perturbation optimale pour chaque alpha\n",
    "    for i in range(alpha_step):\n",
    "        alpha=Alpha[i]\n",
    "        Smax[i]=s_max(nt, alpha)[0]\n",
    "    #------------------------------------------- On récupère la position de l'alpha correspondant à la plus grande amplification\n",
    "    s_alpha=np.max(Smax)\n",
    "    a_max=np.where(Smax==s_alpha)\n",
    "    #------------------------------------------- On retourne le alpha en question et les listes calculées pour pouvoir dessiner le graphique\n",
    "    return(Alpha[a_max],Alpha,Smax)\n",
    "\n",
    "a=max_alpha(0,4.5,75)\n",
    "print('Le alpha qui donne l\\'amplification maximale est',a[0])"
   ]
  },
  {
   "cell_type": "markdown",
   "metadata": {},
   "source": [
    "<font color='grey'>La valeur de alpha obtenue est donc celle qui provoquera une amplification maximale. Le reste des valeurs étant reportée dans le graphique ci-dessous.<font>"
   ]
  },
  {
   "cell_type": "code",
   "execution_count": 30,
   "metadata": {},
   "outputs": [
    {
     "data": {
      "image/png": "[encoded data removed]",
      "text/plain": [
       "<matplotlib.figure.Figure at 0x7f7a74bcf5f8>"
      ]
     },
     "metadata": {
      "needs_background": "light"
     },
     "output_type": "display_data"
    }
   ],
   "source": [
    "#Graphique\n",
    "\n",
    "pyplot.figure(figsize=(7.0,5.0))\n",
    "pyplot.title('Amplification maximale en fonction de alpha')\n",
    "pyplot.xlabel('alpha')\n",
    "pyplot.ylabel('Valeur de l\\'Amplification')\n",
    "pyplot.plot(a[1],a[2],label='Amplification',color='C6', linestyle='-',linewidth=3)\n",
    "pyplot.xlim(0,5.0)\n",
    "pyplot.ylim(0,12)\n",
    "pyplot.legend()\n",
    "pyplot.grid()"
   ]
  },
  {
   "cell_type": "markdown",
   "metadata": {},
   "source": [
    "<font color='grey'>On peut regarder la forme de la perturbation associée à ce alpha:<font>"
   ]
  },
  {
   "cell_type": "code",
   "execution_count": 16,
   "metadata": {},
   "outputs": [
    {
     "data": {
      "image/png": "[encoded data removed]",
      "text/plain": [
       "<matplotlib.figure.Figure at 0x7f7a74aeb0f0>"
      ]
     },
     "metadata": {
      "needs_background": "light"
     },
     "output_type": "display_data"
    }
   ],
   "source": [
    "Opt_am=s_max(nt,a[0])\n",
    "\n",
    "#graph\n",
    "pyplot.figure(figsize=(7.0,5.0))\n",
    "pyplot.title('Perturbation correspondant à la valeur singulière maximale pour un alpha =%s'%(a[0]))\n",
    "pyplot.xlabel('Position')\n",
    "pyplot.ylabel('Amplitude de la Pertubation')\n",
    "pyplot.plot(y2,Opt_am[1], label='Perturbation (partie réelle)',\n",
    "            color='C0', linestyle='-',linewidth=3)\n",
    "pyplot.plot(y2,Opt_am[2], label='Perturbation (partie imaginaire)',\n",
    "            color='C4', linestyle='-',linewidth=3)\n",
    "pyplot.legend(loc='upper left')\n",
    "pyplot.xlim(-L,L)\n",
    "pyplot.ylim(-0.2,0.2)\n",
    "pyplot.grid()"
   ]
  },
  {
   "cell_type": "markdown",
   "metadata": {},
   "source": [
    "**Sources:**\n",
    "\n",
    "<dl>\n",
    "    <dd> https://docs.scipy.org/doc/numpy/user/quickstart.html <dd>\n",
    "    <dd> https://docs.scipy.org/doc/numpy/search.html?q=&check_keywords=yes&area=default <dd>\n",
    "    <dd> https://en.wikipedia.org/wiki/Finite_difference_coefficient <dd>\n",
    "    <dd> https://en.wikipedia.org/wiki/Runge%E2%80%93Kutta_methods#The_Runge%E2%80%93Kutta_method <dd>\n",
    "<dl>"
   ]
  }
 ],
 "metadata": {
  "celltoolbar": "Format de la Cellule Texte Brut",
  "kernelspec": {
   "display_name": "Python 3",
   "language": "python",
   "name": "python3"
  },
  "language_info": {
   "codemirror_mode": {
    "name": "ipython",
    "version": 3
   },
   "file_extension": ".py",
   "mimetype": "text/x-python",
   "name": "python",
   "nbconvert_exporter": "python",
   "pygments_lexer": "ipython3",
   "version": "3.6.7"
  }
 },
 "nbformat": 4,
 "nbformat_minor": 2
}
